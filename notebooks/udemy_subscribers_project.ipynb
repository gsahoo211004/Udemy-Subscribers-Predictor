{
 "cells": [
  {
   "cell_type": "markdown",
   "id": "d189cec7-2e17-46d0-9e71-2aee49ed932e",
   "metadata": {},
   "source": [
    "# Imports"
   ]
  },
  {
   "cell_type": "code",
   "execution_count": 1,
   "id": "c091b056-6025-4668-b99a-e8cbddbcd4d4",
   "metadata": {},
   "outputs": [],
   "source": [
    "import pandas as pd\n",
    "import numpy as np\n",
    "import matplotlib.pyplot as plt\n",
    "import seaborn as sns\n",
    "import re\n",
    "import joblib\n",
    "\n",
    "from sklearn.model_selection import train_test_split\n",
    "from sklearn.ensemble import RandomForestRegressor\n",
    "from sklearn.pipeline import Pipeline\n",
    "from sklearn.preprocessing import StandardScaler, OneHotEncoder\n",
    "from sklearn.feature_extraction.text import TfidfVectorizer\n",
    "from sklearn.compose import ColumnTransformer\n",
    "from sklearn.metrics import mean_absolute_error, mean_squared_error, r2_score\n"
   ]
  },
  {
   "cell_type": "markdown",
   "id": "4f50fa80-b3bc-4f3b-bba7-e47337a7849b",
   "metadata": {},
   "source": [
    "# Load Data"
   ]
  },
  {
   "cell_type": "code",
   "execution_count": 2,
   "id": "e4bcbce9-a9fe-4895-a8e2-1b31e9333e88",
   "metadata": {},
   "outputs": [
    {
     "name": "stdout",
     "output_type": "stream",
     "text": [
      "Shape: (13608, 20)\n"
     ]
    },
    {
     "data": {
      "text/html": [
       "<div>\n",
       "<style scoped>\n",
       "    .dataframe tbody tr th:only-of-type {\n",
       "        vertical-align: middle;\n",
       "    }\n",
       "\n",
       "    .dataframe tbody tr th {\n",
       "        vertical-align: top;\n",
       "    }\n",
       "\n",
       "    .dataframe thead th {\n",
       "        text-align: right;\n",
       "    }\n",
       "</style>\n",
       "<table border=\"1\" class=\"dataframe\">\n",
       "  <thead>\n",
       "    <tr style=\"text-align: right;\">\n",
       "      <th></th>\n",
       "      <th>id</th>\n",
       "      <th>title</th>\n",
       "      <th>url</th>\n",
       "      <th>is_paid</th>\n",
       "      <th>num_subscribers</th>\n",
       "      <th>avg_rating</th>\n",
       "      <th>avg_rating_recent</th>\n",
       "      <th>rating</th>\n",
       "      <th>num_reviews</th>\n",
       "      <th>is_wishlisted</th>\n",
       "      <th>num_published_lectures</th>\n",
       "      <th>num_published_practice_tests</th>\n",
       "      <th>created</th>\n",
       "      <th>published_time</th>\n",
       "      <th>discount_price__amount</th>\n",
       "      <th>discount_price__currency</th>\n",
       "      <th>discount_price__price_string</th>\n",
       "      <th>price_detail__amount</th>\n",
       "      <th>price_detail__currency</th>\n",
       "      <th>price_detail__price_string</th>\n",
       "    </tr>\n",
       "  </thead>\n",
       "  <tbody>\n",
       "    <tr>\n",
       "      <th>0</th>\n",
       "      <td>762616</td>\n",
       "      <td>The Complete SQL Bootcamp 2020: Go from Zero t...</td>\n",
       "      <td>/course/the-complete-sql-bootcamp/</td>\n",
       "      <td>True</td>\n",
       "      <td>295509</td>\n",
       "      <td>4.66019</td>\n",
       "      <td>4.67874</td>\n",
       "      <td>4.67874</td>\n",
       "      <td>78006</td>\n",
       "      <td>False</td>\n",
       "      <td>84</td>\n",
       "      <td>0</td>\n",
       "      <td>2016-02-14T22:57:48Z</td>\n",
       "      <td>2016-04-06T05:16:11Z</td>\n",
       "      <td>455.0</td>\n",
       "      <td>INR</td>\n",
       "      <td>₹455</td>\n",
       "      <td>8640.0</td>\n",
       "      <td>INR</td>\n",
       "      <td>₹8,640</td>\n",
       "    </tr>\n",
       "    <tr>\n",
       "      <th>1</th>\n",
       "      <td>937678</td>\n",
       "      <td>Tableau 2020 A-Z: Hands-On Tableau Training fo...</td>\n",
       "      <td>/course/tableau10/</td>\n",
       "      <td>True</td>\n",
       "      <td>209070</td>\n",
       "      <td>4.58956</td>\n",
       "      <td>4.60015</td>\n",
       "      <td>4.60015</td>\n",
       "      <td>54581</td>\n",
       "      <td>False</td>\n",
       "      <td>78</td>\n",
       "      <td>0</td>\n",
       "      <td>2016-08-22T12:10:18Z</td>\n",
       "      <td>2016-08-23T16:59:49Z</td>\n",
       "      <td>455.0</td>\n",
       "      <td>INR</td>\n",
       "      <td>₹455</td>\n",
       "      <td>8640.0</td>\n",
       "      <td>INR</td>\n",
       "      <td>₹8,640</td>\n",
       "    </tr>\n",
       "    <tr>\n",
       "      <th>2</th>\n",
       "      <td>1361790</td>\n",
       "      <td>PMP Exam Prep Seminar -  PMBOK Guide 6</td>\n",
       "      <td>/course/pmp-pmbok6-35-pdus/</td>\n",
       "      <td>True</td>\n",
       "      <td>155282</td>\n",
       "      <td>4.59491</td>\n",
       "      <td>4.59326</td>\n",
       "      <td>4.59326</td>\n",
       "      <td>52653</td>\n",
       "      <td>False</td>\n",
       "      <td>292</td>\n",
       "      <td>2</td>\n",
       "      <td>2017-09-26T16:32:48Z</td>\n",
       "      <td>2017-11-14T23:58:14Z</td>\n",
       "      <td>455.0</td>\n",
       "      <td>INR</td>\n",
       "      <td>₹455</td>\n",
       "      <td>8640.0</td>\n",
       "      <td>INR</td>\n",
       "      <td>₹8,640</td>\n",
       "    </tr>\n",
       "    <tr>\n",
       "      <th>3</th>\n",
       "      <td>648826</td>\n",
       "      <td>The Complete Financial Analyst Course 2020</td>\n",
       "      <td>/course/the-complete-financial-analyst-course/</td>\n",
       "      <td>True</td>\n",
       "      <td>245860</td>\n",
       "      <td>4.54407</td>\n",
       "      <td>4.53772</td>\n",
       "      <td>4.53772</td>\n",
       "      <td>46447</td>\n",
       "      <td>False</td>\n",
       "      <td>338</td>\n",
       "      <td>0</td>\n",
       "      <td>2015-10-23T13:34:35Z</td>\n",
       "      <td>2016-01-21T01:38:48Z</td>\n",
       "      <td>455.0</td>\n",
       "      <td>INR</td>\n",
       "      <td>₹455</td>\n",
       "      <td>8640.0</td>\n",
       "      <td>INR</td>\n",
       "      <td>₹8,640</td>\n",
       "    </tr>\n",
       "    <tr>\n",
       "      <th>4</th>\n",
       "      <td>637930</td>\n",
       "      <td>An Entire MBA in 1 Course:Award Winning Busine...</td>\n",
       "      <td>/course/an-entire-mba-in-1-courseaward-winning...</td>\n",
       "      <td>True</td>\n",
       "      <td>374836</td>\n",
       "      <td>4.47080</td>\n",
       "      <td>4.47173</td>\n",
       "      <td>4.47173</td>\n",
       "      <td>41630</td>\n",
       "      <td>False</td>\n",
       "      <td>83</td>\n",
       "      <td>0</td>\n",
       "      <td>2015-10-12T06:39:46Z</td>\n",
       "      <td>2016-01-11T21:39:33Z</td>\n",
       "      <td>455.0</td>\n",
       "      <td>INR</td>\n",
       "      <td>₹455</td>\n",
       "      <td>8640.0</td>\n",
       "      <td>INR</td>\n",
       "      <td>₹8,640</td>\n",
       "    </tr>\n",
       "  </tbody>\n",
       "</table>\n",
       "</div>"
      ],
      "text/plain": [
       "        id                                              title  \\\n",
       "0   762616  The Complete SQL Bootcamp 2020: Go from Zero t...   \n",
       "1   937678  Tableau 2020 A-Z: Hands-On Tableau Training fo...   \n",
       "2  1361790             PMP Exam Prep Seminar -  PMBOK Guide 6   \n",
       "3   648826         The Complete Financial Analyst Course 2020   \n",
       "4   637930  An Entire MBA in 1 Course:Award Winning Busine...   \n",
       "\n",
       "                                                 url  is_paid  \\\n",
       "0                 /course/the-complete-sql-bootcamp/     True   \n",
       "1                                 /course/tableau10/     True   \n",
       "2                        /course/pmp-pmbok6-35-pdus/     True   \n",
       "3     /course/the-complete-financial-analyst-course/     True   \n",
       "4  /course/an-entire-mba-in-1-courseaward-winning...     True   \n",
       "\n",
       "   num_subscribers  avg_rating  avg_rating_recent   rating  num_reviews  \\\n",
       "0           295509     4.66019            4.67874  4.67874        78006   \n",
       "1           209070     4.58956            4.60015  4.60015        54581   \n",
       "2           155282     4.59491            4.59326  4.59326        52653   \n",
       "3           245860     4.54407            4.53772  4.53772        46447   \n",
       "4           374836     4.47080            4.47173  4.47173        41630   \n",
       "\n",
       "   is_wishlisted  num_published_lectures  num_published_practice_tests  \\\n",
       "0          False                      84                             0   \n",
       "1          False                      78                             0   \n",
       "2          False                     292                             2   \n",
       "3          False                     338                             0   \n",
       "4          False                      83                             0   \n",
       "\n",
       "                created        published_time  discount_price__amount  \\\n",
       "0  2016-02-14T22:57:48Z  2016-04-06T05:16:11Z                   455.0   \n",
       "1  2016-08-22T12:10:18Z  2016-08-23T16:59:49Z                   455.0   \n",
       "2  2017-09-26T16:32:48Z  2017-11-14T23:58:14Z                   455.0   \n",
       "3  2015-10-23T13:34:35Z  2016-01-21T01:38:48Z                   455.0   \n",
       "4  2015-10-12T06:39:46Z  2016-01-11T21:39:33Z                   455.0   \n",
       "\n",
       "  discount_price__currency discount_price__price_string  price_detail__amount  \\\n",
       "0                      INR                         ₹455                8640.0   \n",
       "1                      INR                         ₹455                8640.0   \n",
       "2                      INR                         ₹455                8640.0   \n",
       "3                      INR                         ₹455                8640.0   \n",
       "4                      INR                         ₹455                8640.0   \n",
       "\n",
       "  price_detail__currency price_detail__price_string  \n",
       "0                    INR                     ₹8,640  \n",
       "1                    INR                     ₹8,640  \n",
       "2                    INR                     ₹8,640  \n",
       "3                    INR                     ₹8,640  \n",
       "4                    INR                     ₹8,640  "
      ]
     },
     "execution_count": 2,
     "metadata": {},
     "output_type": "execute_result"
    }
   ],
   "source": [
    "# Update path as per your local system\n",
    "DATA_PATH = \"../data/raw/udemy_output_All_Finance__Accounting_p1_p626.csv\"\n",
    "\n",
    "df = pd.read_csv(DATA_PATH)\n",
    "print(\"Shape:\", df.shape)\n",
    "df.head()\n"
   ]
  },
  {
   "cell_type": "markdown",
   "id": "bdf22204-f6c3-4563-9028-7a9f12412bf0",
   "metadata": {},
   "source": [
    "# Dataset Overview"
   ]
  },
  {
   "cell_type": "code",
   "execution_count": 3,
   "id": "4bcd1c74-c6c8-4e6d-923f-53063132a1ab",
   "metadata": {},
   "outputs": [
    {
     "name": "stdout",
     "output_type": "stream",
     "text": [
      "<class 'pandas.core.frame.DataFrame'>\n",
      "RangeIndex: 13608 entries, 0 to 13607\n",
      "Data columns (total 20 columns):\n",
      " #   Column                        Non-Null Count  Dtype  \n",
      "---  ------                        --------------  -----  \n",
      " 0   id                            13608 non-null  int64  \n",
      " 1   title                         13608 non-null  object \n",
      " 2   url                           13608 non-null  object \n",
      " 3   is_paid                       13608 non-null  bool   \n",
      " 4   num_subscribers               13608 non-null  int64  \n",
      " 5   avg_rating                    13608 non-null  float64\n",
      " 6   avg_rating_recent             13608 non-null  float64\n",
      " 7   rating                        13608 non-null  float64\n",
      " 8   num_reviews                   13608 non-null  int64  \n",
      " 9   is_wishlisted                 13608 non-null  bool   \n",
      " 10  num_published_lectures        13608 non-null  int64  \n",
      " 11  num_published_practice_tests  13608 non-null  int64  \n",
      " 12  created                       13608 non-null  object \n",
      " 13  published_time                13608 non-null  object \n",
      " 14  discount_price__amount        12205 non-null  float64\n",
      " 15  discount_price__currency      12205 non-null  object \n",
      " 16  discount_price__price_string  12205 non-null  object \n",
      " 17  price_detail__amount          13111 non-null  float64\n",
      " 18  price_detail__currency        13111 non-null  object \n",
      " 19  price_detail__price_string    13111 non-null  object \n",
      "dtypes: bool(2), float64(5), int64(5), object(8)\n",
      "memory usage: 1.9+ MB\n"
     ]
    },
    {
     "data": {
      "text/plain": [
       "discount_price__price_string    1403\n",
       "discount_price__currency        1403\n",
       "discount_price__amount          1403\n",
       "price_detail__amount             497\n",
       "price_detail__price_string       497\n",
       "price_detail__currency           497\n",
       "title                              0\n",
       "id                                 0\n",
       "is_paid                            0\n",
       "url                                0\n",
       "num_subscribers                    0\n",
       "avg_rating                         0\n",
       "num_published_practice_tests       0\n",
       "num_published_lectures             0\n",
       "is_wishlisted                      0\n",
       "dtype: int64"
      ]
     },
     "execution_count": 3,
     "metadata": {},
     "output_type": "execute_result"
    }
   ],
   "source": [
    "df.info()\n",
    "df.describe(include=\"all\").T.head(20)\n",
    "df.isnull().sum().sort_values(ascending=False).head(15)\n"
   ]
  },
  {
   "cell_type": "markdown",
   "id": "d8171ad4-fa9b-4c70-9023-cbf454a301c9",
   "metadata": {},
   "source": [
    "# Clean Titles"
   ]
  },
  {
   "cell_type": "code",
   "execution_count": 4,
   "id": "5b309317-1874-4c8a-9287-696e0e0770b8",
   "metadata": {},
   "outputs": [
    {
     "data": {
      "text/plain": [
       "0    the complete sql bootcamp 2020 go from zero to...\n",
       "1    tableau 2020 az handson tableau training for d...\n",
       "2                pmp exam prep seminar   pmbok guide 6\n",
       "3           the complete financial analyst course 2020\n",
       "4    an entire mba in 1 courseaward winning busines...\n",
       "5    microsoft power bi  a complete introduction 20...\n",
       "6    agile crash course agile project management ag...\n",
       "7    beginner to pro in excel financial modeling an...\n",
       "8    become a product manager  learn the skills  ge...\n",
       "9        the business intelligence analyst course 2020\n",
       "Name: title, dtype: object"
      ]
     },
     "execution_count": 4,
     "metadata": {},
     "output_type": "execute_result"
    }
   ],
   "source": [
    "def clean_title(t):\n",
    "    t = str(t).lower().strip()\n",
    "    t = re.sub(r\"[^\\w\\s]\", \"\", t)\n",
    "    return t\n",
    "\n",
    "df['title'] = df['title'].apply(clean_title)\n",
    "df['title'].head(10)\n"
   ]
  },
  {
   "cell_type": "markdown",
   "id": "efec9979-fd94-4c70-a41a-2ca494ffa6cd",
   "metadata": {},
   "source": [
    "# Categorize Titles"
   ]
  },
  {
   "cell_type": "code",
   "execution_count": 5,
   "id": "5ec2dc98-493f-4adc-a6b8-8da2dceb4b65",
   "metadata": {},
   "outputs": [
    {
     "data": {
      "image/png": "[encoded data removed]",
      "text/plain": [
       "<Figure size 1000x500 with 1 Axes>"
      ]
     },
     "metadata": {},
     "output_type": "display_data"
    }
   ],
   "source": [
    "def categorize_title(title):\n",
    "    tl = title.lower()\n",
    "    if any(k in tl for k in ['sql','mysql','database']):\n",
    "        return 'Database'\n",
    "    if any(k in tl for k in ['tableau','power bi','data viz']):\n",
    "        return 'Data Visualization'\n",
    "    if 'excel' in tl or 'spreadsheet' in tl:\n",
    "        return 'Spreadsheet'\n",
    "    if any(kw in tl for kw in ['agile','scrum','pmp','project management']):\n",
    "        return 'Project Management'\n",
    "    if any(kw in tl for kw in ['financial','finance','accounting']):\n",
    "        return 'Finance'\n",
    "    if 'mba' in tl or 'business' in tl:\n",
    "        return 'Business'\n",
    "    if 'marketing' in tl or 'sale' in tl:\n",
    "        return 'Sales/Marketing'\n",
    "    if any(kw in tl for kw in ['data science','analytics','machine learning','ml']):\n",
    "        return 'Data Science'\n",
    "    return 'Other'\n",
    "\n",
    "df['category'] = df['title'].apply(categorize_title)\n",
    "df['category'].value_counts().plot(kind=\"bar\", figsize=(10,5))\n",
    "plt.title(\"Course Categories from Title Keywords\")\n",
    "plt.show()\n"
   ]
  },
  {
   "cell_type": "markdown",
   "id": "4650ce43-134e-4f15-aba4-ebc3570f046f",
   "metadata": {},
   "source": [
    "# Feature Engineering"
   ]
  },
  {
   "cell_type": "code",
   "execution_count": 6,
   "id": "2974ecf7-84db-42fd-a738-d24c56b7ed45",
   "metadata": {},
   "outputs": [
    {
     "name": "stderr",
     "output_type": "stream",
     "text": [
      "C:\\Users\\Gaurav Sahoo\\AppData\\Local\\Temp\\ipykernel_21500\\4275716397.py:6: FutureWarning: A value is trying to be set on a copy of a DataFrame or Series through chained assignment using an inplace method.\n",
      "The behavior will change in pandas 3.0. This inplace method will never work because the intermediate object on which we are setting values always behaves as a copy.\n",
      "\n",
      "For example, when doing 'df[col].method(value, inplace=True)', try using 'df.method({col: value}, inplace=True)' or df[col] = df[col].method(value) instead, to perform the operation inplace on the original object.\n",
      "\n",
      "\n",
      "  df[col].fillna(df[col].median(), inplace=True)\n",
      "C:\\Users\\Gaurav Sahoo\\AppData\\Local\\Temp\\ipykernel_21500\\4275716397.py:6: FutureWarning: A value is trying to be set on a copy of a DataFrame or Series through chained assignment using an inplace method.\n",
      "The behavior will change in pandas 3.0. This inplace method will never work because the intermediate object on which we are setting values always behaves as a copy.\n",
      "\n",
      "For example, when doing 'df[col].method(value, inplace=True)', try using 'df.method({col: value}, inplace=True)' or df[col] = df[col].method(value) instead, to perform the operation inplace on the original object.\n",
      "\n",
      "\n",
      "  df[col].fillna(df[col].median(), inplace=True)\n",
      "C:\\Users\\Gaurav Sahoo\\AppData\\Local\\Temp\\ipykernel_21500\\4275716397.py:6: FutureWarning: A value is trying to be set on a copy of a DataFrame or Series through chained assignment using an inplace method.\n",
      "The behavior will change in pandas 3.0. This inplace method will never work because the intermediate object on which we are setting values always behaves as a copy.\n",
      "\n",
      "For example, when doing 'df[col].method(value, inplace=True)', try using 'df.method({col: value}, inplace=True)' or df[col] = df[col].method(value) instead, to perform the operation inplace on the original object.\n",
      "\n",
      "\n",
      "  df[col].fillna(df[col].median(), inplace=True)\n",
      "C:\\Users\\Gaurav Sahoo\\AppData\\Local\\Temp\\ipykernel_21500\\4275716397.py:6: FutureWarning: A value is trying to be set on a copy of a DataFrame or Series through chained assignment using an inplace method.\n",
      "The behavior will change in pandas 3.0. This inplace method will never work because the intermediate object on which we are setting values always behaves as a copy.\n",
      "\n",
      "For example, when doing 'df[col].method(value, inplace=True)', try using 'df.method({col: value}, inplace=True)' or df[col] = df[col].method(value) instead, to perform the operation inplace on the original object.\n",
      "\n",
      "\n",
      "  df[col].fillna(df[col].median(), inplace=True)\n",
      "C:\\Users\\Gaurav Sahoo\\AppData\\Local\\Temp\\ipykernel_21500\\4275716397.py:6: FutureWarning: A value is trying to be set on a copy of a DataFrame or Series through chained assignment using an inplace method.\n",
      "The behavior will change in pandas 3.0. This inplace method will never work because the intermediate object on which we are setting values always behaves as a copy.\n",
      "\n",
      "For example, when doing 'df[col].method(value, inplace=True)', try using 'df.method({col: value}, inplace=True)' or df[col] = df[col].method(value) instead, to perform the operation inplace on the original object.\n",
      "\n",
      "\n",
      "  df[col].fillna(df[col].median(), inplace=True)\n",
      "C:\\Users\\Gaurav Sahoo\\AppData\\Local\\Temp\\ipykernel_21500\\4275716397.py:6: FutureWarning: A value is trying to be set on a copy of a DataFrame or Series through chained assignment using an inplace method.\n",
      "The behavior will change in pandas 3.0. This inplace method will never work because the intermediate object on which we are setting values always behaves as a copy.\n",
      "\n",
      "For example, when doing 'df[col].method(value, inplace=True)', try using 'df.method({col: value}, inplace=True)' or df[col] = df[col].method(value) instead, to perform the operation inplace on the original object.\n",
      "\n",
      "\n",
      "  df[col].fillna(df[col].median(), inplace=True)\n"
     ]
    },
    {
     "data": {
      "text/html": [
       "<div>\n",
       "<style scoped>\n",
       "    .dataframe tbody tr th:only-of-type {\n",
       "        vertical-align: middle;\n",
       "    }\n",
       "\n",
       "    .dataframe tbody tr th {\n",
       "        vertical-align: top;\n",
       "    }\n",
       "\n",
       "    .dataframe thead th {\n",
       "        text-align: right;\n",
       "    }\n",
       "</style>\n",
       "<table border=\"1\" class=\"dataframe\">\n",
       "  <thead>\n",
       "    <tr style=\"text-align: right;\">\n",
       "      <th></th>\n",
       "      <th>title</th>\n",
       "      <th>category</th>\n",
       "      <th>rating</th>\n",
       "      <th>num_reviews</th>\n",
       "      <th>Discount_Percentage</th>\n",
       "      <th>title_len</th>\n",
       "    </tr>\n",
       "  </thead>\n",
       "  <tbody>\n",
       "    <tr>\n",
       "      <th>0</th>\n",
       "      <td>the complete sql bootcamp 2020 go from zero to...</td>\n",
       "      <td>Database</td>\n",
       "      <td>4.67874</td>\n",
       "      <td>78006</td>\n",
       "      <td>94.733796</td>\n",
       "      <td>51</td>\n",
       "    </tr>\n",
       "    <tr>\n",
       "      <th>1</th>\n",
       "      <td>tableau 2020 az handson tableau training for d...</td>\n",
       "      <td>Data Visualization</td>\n",
       "      <td>4.60015</td>\n",
       "      <td>54581</td>\n",
       "      <td>94.733796</td>\n",
       "      <td>57</td>\n",
       "    </tr>\n",
       "    <tr>\n",
       "      <th>2</th>\n",
       "      <td>pmp exam prep seminar   pmbok guide 6</td>\n",
       "      <td>Project Management</td>\n",
       "      <td>4.59326</td>\n",
       "      <td>52653</td>\n",
       "      <td>94.733796</td>\n",
       "      <td>37</td>\n",
       "    </tr>\n",
       "    <tr>\n",
       "      <th>3</th>\n",
       "      <td>the complete financial analyst course 2020</td>\n",
       "      <td>Finance</td>\n",
       "      <td>4.53772</td>\n",
       "      <td>46447</td>\n",
       "      <td>94.733796</td>\n",
       "      <td>42</td>\n",
       "    </tr>\n",
       "    <tr>\n",
       "      <th>4</th>\n",
       "      <td>an entire mba in 1 courseaward winning busines...</td>\n",
       "      <td>Business</td>\n",
       "      <td>4.47173</td>\n",
       "      <td>41630</td>\n",
       "      <td>94.733796</td>\n",
       "      <td>59</td>\n",
       "    </tr>\n",
       "    <tr>\n",
       "      <th>5</th>\n",
       "      <td>microsoft power bi  a complete introduction 20...</td>\n",
       "      <td>Data Visualization</td>\n",
       "      <td>4.57676</td>\n",
       "      <td>38093</td>\n",
       "      <td>94.733796</td>\n",
       "      <td>56</td>\n",
       "    </tr>\n",
       "    <tr>\n",
       "      <th>6</th>\n",
       "      <td>agile crash course agile project management ag...</td>\n",
       "      <td>Project Management</td>\n",
       "      <td>4.29118</td>\n",
       "      <td>30470</td>\n",
       "      <td>94.733796</td>\n",
       "      <td>58</td>\n",
       "    </tr>\n",
       "    <tr>\n",
       "      <th>7</th>\n",
       "      <td>beginner to pro in excel financial modeling an...</td>\n",
       "      <td>Spreadsheet</td>\n",
       "      <td>4.53346</td>\n",
       "      <td>28665</td>\n",
       "      <td>94.733796</td>\n",
       "      <td>57</td>\n",
       "    </tr>\n",
       "    <tr>\n",
       "      <th>8</th>\n",
       "      <td>become a product manager  learn the skills  ge...</td>\n",
       "      <td>Other</td>\n",
       "      <td>4.50080</td>\n",
       "      <td>27408</td>\n",
       "      <td>94.733796</td>\n",
       "      <td>55</td>\n",
       "    </tr>\n",
       "    <tr>\n",
       "      <th>9</th>\n",
       "      <td>the business intelligence analyst course 2020</td>\n",
       "      <td>Business</td>\n",
       "      <td>4.49575</td>\n",
       "      <td>23906</td>\n",
       "      <td>94.733796</td>\n",
       "      <td>45</td>\n",
       "    </tr>\n",
       "  </tbody>\n",
       "</table>\n",
       "</div>"
      ],
      "text/plain": [
       "                                               title            category  \\\n",
       "0  the complete sql bootcamp 2020 go from zero to...            Database   \n",
       "1  tableau 2020 az handson tableau training for d...  Data Visualization   \n",
       "2              pmp exam prep seminar   pmbok guide 6  Project Management   \n",
       "3         the complete financial analyst course 2020             Finance   \n",
       "4  an entire mba in 1 courseaward winning busines...            Business   \n",
       "5  microsoft power bi  a complete introduction 20...  Data Visualization   \n",
       "6  agile crash course agile project management ag...  Project Management   \n",
       "7  beginner to pro in excel financial modeling an...         Spreadsheet   \n",
       "8  become a product manager  learn the skills  ge...               Other   \n",
       "9      the business intelligence analyst course 2020            Business   \n",
       "\n",
       "    rating  num_reviews  Discount_Percentage  title_len  \n",
       "0  4.67874        78006            94.733796         51  \n",
       "1  4.60015        54581            94.733796         57  \n",
       "2  4.59326        52653            94.733796         37  \n",
       "3  4.53772        46447            94.733796         42  \n",
       "4  4.47173        41630            94.733796         59  \n",
       "5  4.57676        38093            94.733796         56  \n",
       "6  4.29118        30470            94.733796         58  \n",
       "7  4.53346        28665            94.733796         57  \n",
       "8  4.50080        27408            94.733796         55  \n",
       "9  4.49575        23906            94.733796         45  "
      ]
     },
     "execution_count": 6,
     "metadata": {},
     "output_type": "execute_result"
    }
   ],
   "source": [
    "# Fill missing numerics with median\n",
    "num_cols = ['rating','num_reviews','num_published_lectures','num_published_practice_tests',\n",
    "            'discount_price__amount','price_detail__amount']\n",
    "for col in num_cols:\n",
    "    if col in df.columns:\n",
    "        df[col].fillna(df[col].median(), inplace=True)\n",
    "\n",
    "# Discount percentage\n",
    "df['Discount_Percentage'] = np.where(\n",
    "    df['price_detail__amount'] > 0,\n",
    "    (df['price_detail__amount'] - df['discount_price__amount'])/df['price_detail__amount']*100,\n",
    "    0\n",
    ")\n",
    "\n",
    "# Title features\n",
    "df['title_len'] = df['title'].str.len()\n",
    "df['title_word_count'] = df['title'].str.split().str.len()\n",
    "\n",
    "df[['title','category','rating','num_reviews','Discount_Percentage','title_len']].head(10)\n"
   ]
  },
  {
   "cell_type": "markdown",
   "id": "2855580d-3c58-441b-9124-7c9df3ee1043",
   "metadata": {},
   "source": [
    "# Target & Features"
   ]
  },
  {
   "cell_type": "code",
   "execution_count": 7,
   "id": "a0fbc3b9-a423-4939-91c8-6ad8817927d8",
   "metadata": {},
   "outputs": [
    {
     "name": "stdout",
     "output_type": "stream",
     "text": [
      "X shape: (13608, 11) y shape: (13608,)\n"
     ]
    }
   ],
   "source": [
    "TARGET = \"num_subscribers\"\n",
    "\n",
    "num_features = ['rating','num_reviews','num_published_lectures',\n",
    "                'num_published_practice_tests','discount_price__amount',\n",
    "                'price_detail__amount','Discount_Percentage',\n",
    "                'title_len','title_word_count']\n",
    "cat_features = ['category']\n",
    "text_feature = 'title'\n",
    "\n",
    "X = df[num_features + cat_features + [text_feature]]\n",
    "y = df[TARGET]\n",
    "print(\"X shape:\", X.shape, \"y shape:\", y.shape)\n"
   ]
  },
  {
   "cell_type": "markdown",
   "id": "4531f5b3-2e2e-427e-9a24-713993dc352c",
   "metadata": {},
   "source": [
    "# Train-Test Split"
   ]
  },
  {
   "cell_type": "code",
   "execution_count": 8,
   "id": "c43226c7-889b-43e1-843a-5c8a8490ab50",
   "metadata": {},
   "outputs": [],
   "source": [
    "X_train, X_test, y_train, y_test = train_test_split(\n",
    "    X, y, test_size=0.2, random_state=42\n",
    ")\n"
   ]
  },
  {
   "cell_type": "markdown",
   "id": "5e1c5333-78dd-4bc5-ad5b-ab01c5af8357",
   "metadata": {},
   "source": [
    "# Preprocessor & Model Pipeline"
   ]
  },
  {
   "cell_type": "code",
   "execution_count": 9,
   "id": "c289a4bf-5688-40b9-aeac-f01a74d2d146",
   "metadata": {},
   "outputs": [],
   "source": [
    "numeric_transformer = Pipeline(steps=[\n",
    "    ('scaler', StandardScaler())\n",
    "])\n",
    "\n",
    "categorical_transformer = OneHotEncoder(handle_unknown='ignore', sparse_output=False)\n",
    "\n",
    "tfidf = TfidfVectorizer(max_features=1000)\n",
    "\n",
    "preprocessor = ColumnTransformer(\n",
    "    transformers=[\n",
    "        ('num', numeric_transformer, num_features),\n",
    "        ('cat', categorical_transformer, cat_features),\n",
    "        ('text', tfidf, text_feature)\n",
    "    ],\n",
    "    sparse_threshold=0\n",
    ")\n",
    "\n",
    "model = RandomForestRegressor(n_estimators=200, random_state=42)\n",
    "\n",
    "pipeline = Pipeline(steps=[\n",
    "    ('preprocessor', preprocessor),\n",
    "    ('model', model)\n",
    "])\n"
   ]
  },
  {
   "cell_type": "code",
   "execution_count": 15,
   "id": "ae2b8dc0-c427-4a62-973c-42eb50ecf117",
   "metadata": {},
   "outputs": [],
   "source": [
    "df.to_csv(\"../data/processed/cleaned_data.csv\", index=False)"
   ]
  },
  {
   "cell_type": "markdown",
   "id": "058fc296-1eec-4bbd-90e7-7df94556980c",
   "metadata": {},
   "source": [
    "# Train Model"
   ]
  },
  {
   "cell_type": "code",
   "execution_count": 11,
   "id": "5ae3bd97-3309-4cb1-b85b-c988561c4435",
   "metadata": {},
   "outputs": [
    {
     "name": "stdout",
     "output_type": "stream",
     "text": [
      "MAE: 2074.543217854519\n",
      "RMSE: 6257.061811100835\n",
      "R2 Score: 0.6726163646947286\n"
     ]
    }
   ],
   "source": [
    "pipeline.fit(X_train, y_train)\n",
    "\n",
    "y_pred = pipeline.predict(X_test)\n",
    "\n",
    "mae = mean_absolute_error(y_test, y_pred)\n",
    "rmse = np.sqrt(mean_squared_error(y_test, y_pred))\n",
    "r2 = r2_score(y_test, y_pred)\n",
    "\n",
    "print(\"MAE:\", mae)\n",
    "print(\"RMSE:\", rmse)\n",
    "print(\"R2 Score:\", r2)\n"
   ]
  },
  {
   "cell_type": "markdown",
   "id": "02d72993-f5ef-44e0-a69f-f5f14c4ae25b",
   "metadata": {},
   "source": [
    "# Plot Prediction"
   ]
  },
  {
   "cell_type": "code",
   "execution_count": 12,
   "id": "d14fb8f5-08b9-47ec-a201-a7022d03a0aa",
   "metadata": {},
   "outputs": [
    {
     "data": {
      "image/png": "[encoded data removed]",
      "text/plain": [
       "<Figure size 600x600 with 1 Axes>"
      ]
     },
     "metadata": {},
     "output_type": "display_data"
    }
   ],
   "source": [
    "plt.figure(figsize=(6,6))\n",
    "plt.scatter(y_test, y_pred, alpha=0.3)\n",
    "plt.xlabel(\"Actual Subscribers\")\n",
    "plt.ylabel(\"Predicted Subscribers\")\n",
    "lims = [0, np.percentile(np.concatenate([y_test,y_pred]), 99)]\n",
    "plt.xlim(lims); plt.ylim(lims)\n",
    "plt.plot(lims, lims, '--', color='k')\n",
    "plt.title(\"Actual vs Predicted Subscribers\")\n",
    "plt.show()\n"
   ]
  },
  {
   "cell_type": "markdown",
   "id": "1a15d136-91fa-4bdd-8997-f65c637d06d9",
   "metadata": {},
   "source": [
    "# Save Model"
   ]
  },
  {
   "cell_type": "code",
   "execution_count": 13,
   "id": "019be0fc-aeea-48c2-a153-917952cfcab8",
   "metadata": {},
   "outputs": [
    {
     "name": "stdout",
     "output_type": "stream",
     "text": [
      "Model saved to ../models/udemy_subscribers_pipeline.joblib\n"
     ]
    }
   ],
   "source": [
    "MODEL_PATH = \"../models/udemy_subscribers_pipeline.joblib\"\n",
    "joblib.dump(pipeline, MODEL_PATH)\n",
    "print(f\"Model saved to {MODEL_PATH}\")\n"
   ]
  },
  {
   "cell_type": "markdown",
   "id": "6fa56789-2a5a-49b7-95bf-fe65303cf70b",
   "metadata": {},
   "source": [
    "# Load Model & Test"
   ]
  },
  {
   "cell_type": "code",
   "execution_count": 14,
   "id": "c6522148-9292-442a-9fad-b73bff99dd8e",
   "metadata": {},
   "outputs": [
    {
     "name": "stdout",
     "output_type": "stream",
     "text": [
      "Predicted Subscribers: 8670\n"
     ]
    }
   ],
   "source": [
    "model_loaded = joblib.load(MODEL_PATH)\n",
    "\n",
    "sample = pd.DataFrame([{\n",
    "    'title': \"the complete sql bootcamp\",\n",
    "    'rating': 4.5,\n",
    "    'num_reviews': 200,\n",
    "    'num_published_lectures': 50,\n",
    "    'num_published_practice_tests': 0,\n",
    "    'discount_price__amount': 10,\n",
    "    'price_detail__amount': 100,\n",
    "    'Discount_Percentage': 90,\n",
    "    'title_len': len(\"the complete sql bootcamp\"),\n",
    "    'title_word_count': len(\"the complete sql bootcamp\".split()),\n",
    "    'category': \"Database\"\n",
    "}])\n",
    "\n",
    "print(\"Predicted Subscribers:\", int(model_loaded.predict(sample)[0]))\n"
   ]
  },
  {
   "cell_type": "code",
   "execution_count": null,
   "id": "f2c23c4f-d043-4e10-88ea-030612609469",
   "metadata": {},
   "outputs": [],
   "source": []
  }
 ],
 "metadata": {
  "kernelspec": {
   "display_name": "Python 3 (ipykernel)",
   "language": "python",
   "name": "python3"
  },
  "language_info": {
   "codemirror_mode": {
    "name": "ipython",
    "version": 3
   },
   "file_extension": ".py",
   "mimetype": "text/x-python",
   "name": "python",
   "nbconvert_exporter": "python",
   "pygments_lexer": "ipython3",
   "version": "3.12.6"
  }
 },
 "nbformat": 4,
 "nbformat_minor": 5
}
